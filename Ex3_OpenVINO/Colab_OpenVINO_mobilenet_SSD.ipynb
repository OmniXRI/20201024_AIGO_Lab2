{
  "nbformat": 4,
  "nbformat_minor": 0,
  "metadata": {
    "colab": {
      "name": "Colab_OpenVINO_mobilenet_SSD.ipynb",
      "provenance": [],
      "collapsed_sections": []
    },
    "kernelspec": {
      "name": "python3",
      "display_name": "Python 3"
    }
  },
  "cells": [
    {
      "cell_type": "markdown",
      "metadata": {
        "id": "PUynAV9J1eRi"
      },
      "source": [
        "# **Colab安裝OpenVINO並下載執行mobilenet-SSD物件範例**\n",
        "\n",
        "範例提供：OmniXRI Jack 2020.9.10\n",
        "\n",
        "主要工作項目：\n",
        "\n",
        "1.   檢查系統\n",
        "2.   安裝OpenVINO工具包\n",
        "3.   模型下載\n",
        "4.   模型優化\n",
        "5.   執行推論\n",
        "\n",
        "參考範例來源：https://colab.research.google.com/drive/1-ETOSlDftRCkAW4FoBHGLgslfaRMRqBU"
      ]
    },
    {
      "cell_type": "markdown",
      "metadata": {
        "id": "_diohn2ldAJc"
      },
      "source": [
        "# **0. 檢查系統**"
      ]
    },
    {
      "cell_type": "code",
      "metadata": {
        "id": "W2Evd4UedTyh"
      },
      "source": [
        "# 檢查CPU狀態\n",
        "# 預設會分配到 Intel Xeon CPU x64 2.2GHz 二顆\n",
        "# OpenVINO只支援虛擬機的Intel CPU Xeon，不支援虛擬機的Nvidia GPU或Google TPU\n",
        "!lscpu"
      ],
      "execution_count": null,
      "outputs": []
    },
    {
      "cell_type": "code",
      "metadata": {
        "id": "7gc99_HVdV-I"
      },
      "source": [
        "# 檢查作業系統狀態\n",
        "# 預設會分配到 Ubuntu 18.04.3 LTS版本\n",
        "!cat /etc/os-release"
      ],
      "execution_count": null,
      "outputs": []
    },
    {
      "cell_type": "markdown",
      "metadata": {
        "id": "x-iMA0iIXMYt"
      },
      "source": [
        "# **1. 安裝Intel OpenVINO工具包**"
      ]
    },
    {
      "cell_type": "code",
      "metadata": {
        "id": "3BPyuF_tMR5I"
      },
      "source": [
        "# 取得OpenVINO2020公開金錀\n",
        "!wget https://apt.repos.intel.com/openvino/2020/GPG-PUB-KEY-INTEL-OPENVINO-2020"
      ],
      "execution_count": null,
      "outputs": []
    },
    {
      "cell_type": "code",
      "metadata": {
        "id": "vqQ1evnXLWuq"
      },
      "source": [
        "# 加入OpenVINO公開金錀到系統金錀群中\n",
        "!apt-key add GPG-PUB-KEY-INTEL-OPENVINO-2020"
      ],
      "execution_count": null,
      "outputs": []
    },
    {
      "cell_type": "code",
      "metadata": {
        "id": "8YTK6yZYMjtJ"
      },
      "source": [
        "# 建立更新安裝清單檔案\n",
        "!touch /etc/apt/sources.list.d/intel-openvino-2020.list"
      ],
      "execution_count": null,
      "outputs": []
    },
    {
      "cell_type": "code",
      "metadata": {
        "id": "sjB2tPE5Mjv7"
      },
      "source": [
        "# 將下載指令加入安裝清單中\n",
        "!echo \"deb https://apt.repos.intel.com/openvino/2020 all main\" >> /etc/apt/sources.list.d/intel-openvino-2020.list"
      ],
      "execution_count": null,
      "outputs": []
    },
    {
      "cell_type": "code",
      "metadata": {
        "id": "p_Y0njq-MsoP"
      },
      "source": [
        "# 更新系統\n",
        "!apt update"
      ],
      "execution_count": null,
      "outputs": []
    },
    {
      "cell_type": "markdown",
      "metadata": {
        "id": "IJLw0IbBh8hj"
      },
      "source": [
        "可利用 !apt-cache search openvino 指令搜尋可安裝的版本系統包，包含Runtime及Developer Packages"
      ]
    },
    {
      "cell_type": "code",
      "metadata": {
        "id": "6TdMkjTMMypN"
      },
      "source": [
        "# 安裝OpenVINO到虛擬機系統中\n",
        "!apt install intel-openvino-dev-ubuntu18-2020.4.287"
      ],
      "execution_count": null,
      "outputs": []
    },
    {
      "cell_type": "code",
      "metadata": {
        "id": "Y_wMT5onL-qY"
      },
      "source": [
        "# 列出安裝路徑下內容\n",
        "!ls /opt/intel"
      ],
      "execution_count": null,
      "outputs": []
    },
    {
      "cell_type": "markdown",
      "metadata": {
        "id": "OVt2eeaeRZ98"
      },
      "source": [
        "# **2. 模型下載**"
      ]
    },
    {
      "cell_type": "code",
      "metadata": {
        "id": "0CB7jHlWhJ_c"
      },
      "source": [
        "# 執行環境設定批次檔並以模型下載器取得mobilenet-ssd\n",
        "# 可以用 --name 取得OpenVINO提供之任意指定模型名稱\n",
        "!source /opt/intel/openvino/bin/setupvars.sh && \\\n",
        "python /opt/intel/openvino/deployment_tools/tools/model_downloader/downloader.py \\\n",
        "--name mobilenet-ssd"
      ],
      "execution_count": null,
      "outputs": []
    },
    {
      "cell_type": "markdown",
      "metadata": {
        "id": "hptfdelFy65V"
      },
      "source": [
        "# **3. 模型優化**"
      ]
    },
    {
      "cell_type": "code",
      "metadata": {
        "id": "ui7toGLHz9Zk"
      },
      "source": [
        "# 下載及安裝test-generator 方便檢查程式運行錯誤\n",
        "!pip install test-generator==0.1.1"
      ],
      "execution_count": null,
      "outputs": []
    },
    {
      "cell_type": "code",
      "metadata": {
        "id": "imkMcaQYz-Tb"
      },
      "source": [
        "# 執行環境設定批次檔並將下載到的mobilenet-v1-1.0-224模型檔進行優化轉換產生IR(xml & bin)檔\n",
        "# 可以用 --name 指定下載到模型名稱\n",
        "!source /opt/intel/openvino/bin/setupvars.sh && \\\n",
        "python /opt/intel/openvino/deployment_tools/tools/model_downloader/converter.py \\\n",
        "--name mobilenet-ssd"
      ],
      "execution_count": null,
      "outputs": []
    },
    {
      "cell_type": "markdown",
      "metadata": {
        "id": "izJpllcrzh1F"
      },
      "source": [
        "# **4. 執行推論**"
      ]
    },
    {
      "cell_type": "code",
      "metadata": {
        "id": "s-y9DTUj0M07"
      },
      "source": [
        "# 以OpenCV檢視輸入影像\n",
        "import cv2\n",
        "import matplotlib.pyplot as plt\n",
        "\n",
        "img = cv2.imread('/opt/intel/openvino/deployment_tools/demo/car_1.bmp') # 讀入指定彩色影像\n",
        "rgb = cv2.cvtColor(img, cv2.COLOR_BGR2RGB) # 將影像從BGR格式轉到RGB格式，才能讓plt.imshow()正確顯示\n",
        "plt.figure() # 準備一顯示影像空間\n",
        "plt.imshow(rgb) # 顯示影像"
      ],
      "execution_count": null,
      "outputs": []
    },
    {
      "cell_type": "markdown",
      "metadata": {
        "id": "mlv7Hhqk0UZL"
      },
      "source": [
        "執行環境設定批次檔並執行mobilenet-SSD物件偵測\n",
        "\n",
        "環境設定批次檔 /opt/intel/openvino/bin/setupvars.sh\n",
        "\n",
        "物件偵測範例 /opt/intel/openvino/inference_engine/samples/python/object_detection_sample_ssd/object_detection_sample_ssd.py\n",
        "\n",
        "參數：\n",
        "\n",
        "-m 模型名稱 (*.xml)\n",
        "\n",
        "-i 輸入影像名稱 (*.png, *.jpg ...)\n",
        "\n",
        "--labels ImageNet 1000分類名稱標籤檔"
      ]
    },
    {
      "cell_type": "code",
      "metadata": {
        "id": "KwFnVDvZ0N3O"
      },
      "source": [
        "# 檢視範例程式碼（可略過不執行）\n",
        "!cat /opt/intel/openvino/inference_engine/samples/python/object_detection_sample_ssd/object_detection_sample_ssd.py"
      ],
      "execution_count": null,
      "outputs": []
    },
    {
      "cell_type": "code",
      "metadata": {
        "id": "mgHMBC5-0Zk2"
      },
      "source": [
        "# 執行環境設定批次檔並執行物件偵測\n",
        "# 輸出結果影像預設為'out.bmp'\n",
        "!source /opt/intel/openvino/bin/setupvars.sh && \\\n",
        "python \\\n",
        "/opt/intel/openvino/inference_engine/samples/python/object_detection_sample_ssd/object_detection_sample_ssd.py \\\n",
        "-m /content/public/mobilenet-ssd/FP16/mobilenet-ssd.xml \\\n",
        "-i /opt/intel/openvino/deployment_tools/demo/car_1.bmp \\\n",
        "--labels /opt/intel/openvino/deployment_tools/inference_engine/samples/python/voc_labels.txt"
      ],
      "execution_count": null,
      "outputs": []
    },
    {
      "cell_type": "code",
      "metadata": {
        "id": "kKNwwGEQ7Xb8"
      },
      "source": [
        "# 以OpenCV檢視輸入影像\n",
        "result = cv2.imread('out.bmp') # 讀入指定彩色影像\n",
        "rgb2 = cv2.cvtColor(result, cv2.COLOR_BGR2RGB) # 將影像從BGR格式轉到RGB格式，才能讓plt.imshow()正確顯示\n",
        "plt.figure() # 準備一顯示影像空間\n",
        "plt.imshow(rgb2) # 顯示影像"
      ],
      "execution_count": null,
      "outputs": []
    }
  ]
}