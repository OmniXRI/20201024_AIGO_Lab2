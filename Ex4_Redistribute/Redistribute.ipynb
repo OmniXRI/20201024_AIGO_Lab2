{
  "nbformat": 4,
  "nbformat_minor": 0,
  "metadata": {
    "colab": {
      "name": "Redistribute.ipynb",
      "provenance": [],
      "collapsed_sections": []
    },
    "kernelspec": {
      "name": "python3",
      "display_name": "Python 3"
    }
  },
  "cells": [
    {
      "cell_type": "markdown",
      "metadata": {
        "id": "0-vmQZc0FTTR"
      },
      "source": [
        "利用已標註資料集依指定之比例建立訓練、驗證及測試集清單檔案。\n",
        "\n",
        "參考範例：【AI_Column】如何以YOLOv3訓練自己的資料集─以小蕃茄為例 \n",
        "https://omnixri.blogspot.com/2019/11/aicolumnyolov3.html"
      ]
    },
    {
      "cell_type": "code",
      "metadata": {
        "id": "36F4hTmwQVNW"
      },
      "source": [
        "!git clone https://github.com/OmniXRI/OpenVINO_RealSense_HarvestBot.git #取得小蕃茄影像及標註資料集\n",
        "!ls"
      ],
      "execution_count": null,
      "outputs": []
    },
    {
      "cell_type": "code",
      "metadata": {
        "id": "mOLXBApiQVcn"
      },
      "source": [
        "%cd OpenVINO_RealSense_HarvestBot\n",
        "%cd my_yolo3/\n",
        "!ls"
      ],
      "execution_count": null,
      "outputs": []
    },
    {
      "cell_type": "code",
      "metadata": {
        "id": "3iVptwoyFTxV"
      },
      "source": [
        "!rm ./VOC2007/ImageSets/Main/*.txt #刪除訓練、驗證、測試資料集清單（*.txt)"
      ],
      "execution_count": null,
      "outputs": []
    },
    {
      "cell_type": "markdown",
      "metadata": {
        "id": "6zVTDsDNRboM"
      },
      "source": [
        "依指定比例重新分配資料集，訓練加驗證佔2/3，測試佔1/3，而訓練集佔訓練加驗證佔1/2。即訓練集33%，驗證集33%，測試集34%。"
      ]
    },
    {
      "cell_type": "code",
      "metadata": {
        "id": "UaqNGwahKbYs"
      },
      "source": [
        "import os\n",
        "import random\n",
        "\n",
        "trainval_percent = 0.66 #訓練加驗證集佔全部資料集比例\n",
        "train_percent = 0.5 # 訓練集佔訓練加驗證集比例\n",
        "xmlfilepath = './VOC2007/Annotations' #標註檔路徑\n",
        "txtsavepath = './VOC2007/ImageSets/Main' #訓練、驗證、測試清單路徑\n",
        "total_xml = os.listdir(xmlfilepath)\n",
        "\n",
        "num=len(total_xml)\n",
        "list=range(num)\n",
        "tv=int(num*trainval_percent)\n",
        "tr=int(tv*train_percent)\n",
        "trainval= random.sample(list,tv)\n",
        "train=random.sample(trainval,tr)\n",
        "\n",
        "ftrainval = open('./VOC2007/ImageSets/Main/trainval.txt', 'w') #指定訓練加驗證集清單檔\n",
        "ftest = open('./VOC2007/ImageSets/Main/test.txt', 'w') #指定測試資料集清單\n",
        "ftrain = open('./VOC2007/ImageSets/Main/train.txt', 'w') #指定訓練資料集清單\n",
        "fval = open('./VOC2007/ImageSets/Main/val.txt', 'w') #指定驗證資料集清單\n",
        "\n",
        "for i  in list:\n",
        "    name=total_xml[i][:-4]+'\\n'\n",
        "    if i in trainval:\n",
        "        ftrainval.write(name)\n",
        "        if i in train:\n",
        "            ftrain.write(name)\n",
        "        else:\n",
        "            fval.write(name)\n",
        "    else:\n",
        "        ftest.write(name)\n",
        "\n",
        "ftrainval.close()\n",
        "ftrain.close()\n",
        "fval.close()\n",
        "ftest .close()"
      ],
      "execution_count": null,
      "outputs": []
    },
    {
      "cell_type": "code",
      "metadata": {
        "id": "tR4LL9tSK4bd"
      },
      "source": [
        "!ls ./VOC2007/ImageSets/Main -all #檢查是否已順利產生訓練、驗證、測試資料集清單（*.txt)"
      ],
      "execution_count": null,
      "outputs": []
    }
  ]
}